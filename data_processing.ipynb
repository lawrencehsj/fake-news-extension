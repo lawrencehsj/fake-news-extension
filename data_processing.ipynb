{
 "cells": [
  {
   "cell_type": "markdown",
   "metadata": {},
   "source": [
    "## Data Processing"
   ]
  },
  {
   "cell_type": "code",
   "execution_count": null,
   "metadata": {},
   "outputs": [],
   "source": [
    "pip install pandas nltk sklearn"
   ]
  },
  {
   "cell_type": "code",
   "execution_count": null,
   "metadata": {},
   "outputs": [],
   "source": [
    "import pandas as pd\n",
    "import numpy as np\n",
    "import re\n",
    "import nltk\n",
    "import joblib\n",
    "\n",
    "from sklearn.model_selection import train_test_split\n",
    "from sklearn.metrics import accuracy_score\n",
    "from sklearn.metrics import classification_report\n",
    "\n",
    "from nltk.stem.porter import PorterStemmer\n",
    "from nltk.lm import Vocabulary\n",
    "from nltk.corpus import stopwords\n",
    "from nltk.stem import WordNetLemmatizer\n",
    "\n",
    "from sklearn.feature_extraction.text import CountVectorizer, TfidfVectorizer\n",
    "from sklearn.linear_model import LogisticRegression\n",
    "from sklearn.pipeline import Pipeline"
   ]
  },
  {
   "cell_type": "code",
   "execution_count": 20,
   "metadata": {},
   "outputs": [],
   "source": [
    "# read data from csv files\n",
    "fake = pd.read_csv(\"./dataset/fake.csv\")\n",
    "real = pd.read_csv(\"./dataset/real.csv\")\n",
    "\n",
    "# inserting binary labels for real and fake news\n",
    "fake['class'] = 0\n",
    "real['class'] = 1"
   ]
  },
  {
   "cell_type": "markdown",
   "metadata": {},
   "source": [
    "##### Helper functions"
   ]
  },
  {
   "cell_type": "code",
   "execution_count": 21,
   "metadata": {},
   "outputs": [],
   "source": [
    "def remove_empty_rows(dataset):\n",
    "    '''\n",
    "    Helper function: \n",
    "    1. Takes in a dataset, remove any rows with empty content in it\n",
    "    2. Returns it.\n",
    "    '''\n",
    "    empy_texts_ids = dataset[dataset['text'] == ' '].append(dataset[dataset['text'] == '  ']).index\n",
    "    dataset = dataset.drop(empy_texts_ids).reset_index(drop=True)\n",
    "    return dataset"
   ]
  },
  {
   "cell_type": "code",
   "execution_count": 22,
   "metadata": {},
   "outputs": [
    {
     "data": {
      "text/html": [
       "<div>\n",
       "<style scoped>\n",
       "    .dataframe tbody tr th:only-of-type {\n",
       "        vertical-align: middle;\n",
       "    }\n",
       "\n",
       "    .dataframe tbody tr th {\n",
       "        vertical-align: top;\n",
       "    }\n",
       "\n",
       "    .dataframe thead th {\n",
       "        text-align: right;\n",
       "    }\n",
       "</style>\n",
       "<table border=\"1\" class=\"dataframe\">\n",
       "  <thead>\n",
       "    <tr style=\"text-align: right;\">\n",
       "      <th></th>\n",
       "      <th>title</th>\n",
       "      <th>text</th>\n",
       "      <th>class</th>\n",
       "    </tr>\n",
       "  </thead>\n",
       "  <tbody>\n",
       "    <tr>\n",
       "      <th>0</th>\n",
       "      <td>U.S. to vote against U.N. resolution calling f...</td>\n",
       "      <td>UNITED NATIONS (Reuters) - The United States w...</td>\n",
       "      <td>1</td>\n",
       "    </tr>\n",
       "    <tr>\n",
       "      <th>1</th>\n",
       "      <td>Trump FURIOUS As Latest Obamacare Numbers Pro...</td>\n",
       "      <td>Donald Trump s approval rating plummeted after...</td>\n",
       "      <td>0</td>\n",
       "    </tr>\n",
       "    <tr>\n",
       "      <th>2</th>\n",
       "      <td>Trump Fans Are Asked About ‘P*ssy Grabbing’ R...</td>\n",
       "      <td>Donald Trump s lewd and predatory remarks abou...</td>\n",
       "      <td>0</td>\n",
       "    </tr>\n",
       "    <tr>\n",
       "      <th>3</th>\n",
       "      <td>Russia's Putin tells Palestinians' Abbas he su...</td>\n",
       "      <td>MOSCOW (Reuters) - Russian President Vladimir ...</td>\n",
       "      <td>1</td>\n",
       "    </tr>\n",
       "    <tr>\n",
       "      <th>4</th>\n",
       "      <td>Detroit school system's manager to step down t...</td>\n",
       "      <td>DETROIT (Reuters) - Detroit Public Schools’ em...</td>\n",
       "      <td>1</td>\n",
       "    </tr>\n",
       "  </tbody>\n",
       "</table>\n",
       "</div>"
      ],
      "text/plain": [
       "                                               title  \\\n",
       "0  U.S. to vote against U.N. resolution calling f...   \n",
       "1   Trump FURIOUS As Latest Obamacare Numbers Pro...   \n",
       "2   Trump Fans Are Asked About ‘P*ssy Grabbing’ R...   \n",
       "3  Russia's Putin tells Palestinians' Abbas he su...   \n",
       "4  Detroit school system's manager to step down t...   \n",
       "\n",
       "                                                text  class  \n",
       "0  UNITED NATIONS (Reuters) - The United States w...      1  \n",
       "1  Donald Trump s approval rating plummeted after...      0  \n",
       "2  Donald Trump s lewd and predatory remarks abou...      0  \n",
       "3  MOSCOW (Reuters) - Russian President Vladimir ...      1  \n",
       "4  DETROIT (Reuters) - Detroit Public Schools’ em...      1  "
      ]
     },
     "execution_count": 22,
     "metadata": {},
     "output_type": "execute_result"
    }
   ],
   "source": [
    "# removing rows with empty content\n",
    "fake = remove_empty_rows(fake)\n",
    "real = remove_empty_rows(real)\n",
    "\n",
    "# removing unnecessary columns\n",
    "fake = fake.drop(columns=['subject','date'])\n",
    "real = real.drop(columns=['subject','date'])\n",
    "\n",
    "# combine the two datasets into one, then shuffle and reorder the indexes\n",
    "dataset = pd.concat([fake, real]).sample(frac=1)\n",
    "dataset.reset_index(drop=True,inplace=True)\n",
    "dataset.head()"
   ]
  },
  {
   "cell_type": "markdown",
   "metadata": {},
   "source": [
    "### Tokenizing\n",
    "\n",
    "This process includes several steps to tokenize the data for a more efficient training set.\n",
    "1. Eliminating null values\n",
    "2. Applying regex conditions: \n",
    "    * deleting punctuations, lower case conversion, removing stopwords, removing numerical values.\n",
    "3. Lemmatizing\n",
    "4. Vectorizing data to numerical form\n",
    "    * vectorizing using TF-IDF\n",
    "\n",
    "Tokenizing the content in the dataset and apply regex conditions."
   ]
  },
  {
   "cell_type": "code",
   "execution_count": 24,
   "metadata": {},
   "outputs": [],
   "source": [
    "ps = PorterStemmer()\n",
    "lemmatizer = WordNetLemmatizer()\n",
    "\n",
    "def tokenize(content):\n",
    "    '''\n",
    "    Function to apply stemming to the news content.\n",
    "    Apply regex conditions.\n",
    "    Content is one row; i.e text/title of article.\n",
    "    '''\n",
    "    # tokenize the sentence\n",
    "    tokenized_content = re.sub('[^a-zA-Z]',' ',content)\n",
    "    tokenized_content = tokenized_content.lower()\n",
    "    tokenized_content = tokenized_content.split()\n",
    "    # tokenized_content = [ps.stem(word) for word in tokenized_content if word not in stopwords.words('english')]\n",
    "    # tokenized_content = [word for word in tokenized_content if word not in stopwords.words('english')]\n",
    "    tokenized_content = [lemmatizer.lemmatize(word) for word in tokenized_content if word not in stopwords.words('english')]\n",
    "    tokenized_content = ' '.join(tokenized_content)\n",
    "    return tokenized_content\n",
    "\n",
    "    # filtering the sentence\n",
    "    # filtered_content = token_filter(tokenized_content, 5)\n",
    "    # filtered_content = ' '.join(filtered_content)\n",
    "    # return filtered_content\n",
    "\n",
    "# def token_filter(tokenized_content, thresh=5):\n",
    "#     '''\n",
    "#     Takes in tokenized_content (one row; i.e text/title of article)\n",
    "#     Function to filter out any unknown english words.\n",
    "#     '''\n",
    "#     words = tokenized_content.split(' ')\n",
    "#     # print(words)\n",
    "#     vocab = Vocabulary(words, unk_cutoff=thresh)\n",
    "#     filtered_content = []\n",
    "\n",
    "#     for word in words:\n",
    "#         # check for unknown words\n",
    "#         if vocab.lookup(word) == '<UNK>':\n",
    "#             # print(word)\n",
    "#             filtered_content.append('<unk>')\n",
    "#             print(filtered_content)\n",
    "#         else:\n",
    "#             filtered_content.append(word)\n",
    "    \n",
    "#     # print(filtered_content)\n",
    "#     return filtered_content"
   ]
  },
  {
   "cell_type": "markdown",
   "metadata": {},
   "source": [
    "##### Before tokenizing:"
   ]
  },
  {
   "cell_type": "code",
   "execution_count": 59,
   "metadata": {},
   "outputs": [
    {
     "data": {
      "text/html": [
       "<div>\n",
       "<style scoped>\n",
       "    .dataframe tbody tr th:only-of-type {\n",
       "        vertical-align: middle;\n",
       "    }\n",
       "\n",
       "    .dataframe tbody tr th {\n",
       "        vertical-align: top;\n",
       "    }\n",
       "\n",
       "    .dataframe thead th {\n",
       "        text-align: right;\n",
       "    }\n",
       "</style>\n",
       "<table border=\"1\" class=\"dataframe\">\n",
       "  <thead>\n",
       "    <tr style=\"text-align: right;\">\n",
       "      <th></th>\n",
       "      <th>title</th>\n",
       "      <th>text</th>\n",
       "      <th>class</th>\n",
       "    </tr>\n",
       "  </thead>\n",
       "  <tbody>\n",
       "    <tr>\n",
       "      <th>0</th>\n",
       "      <td>U.S. to vote against U.N. resolution calling f...</td>\n",
       "      <td>UNITED NATIONS (Reuters) - The United States w...</td>\n",
       "      <td>1</td>\n",
       "    </tr>\n",
       "    <tr>\n",
       "      <th>1</th>\n",
       "      <td>Trump FURIOUS As Latest Obamacare Numbers Pro...</td>\n",
       "      <td>Donald Trump s approval rating plummeted after...</td>\n",
       "      <td>0</td>\n",
       "    </tr>\n",
       "    <tr>\n",
       "      <th>2</th>\n",
       "      <td>Trump Fans Are Asked About ‘P*ssy Grabbing’ R...</td>\n",
       "      <td>Donald Trump s lewd and predatory remarks abou...</td>\n",
       "      <td>0</td>\n",
       "    </tr>\n",
       "    <tr>\n",
       "      <th>3</th>\n",
       "      <td>Russia's Putin tells Palestinians' Abbas he su...</td>\n",
       "      <td>MOSCOW (Reuters) - Russian President Vladimir ...</td>\n",
       "      <td>1</td>\n",
       "    </tr>\n",
       "    <tr>\n",
       "      <th>4</th>\n",
       "      <td>Detroit school system's manager to step down t...</td>\n",
       "      <td>DETROIT (Reuters) - Detroit Public Schools’ em...</td>\n",
       "      <td>1</td>\n",
       "    </tr>\n",
       "  </tbody>\n",
       "</table>\n",
       "</div>"
      ],
      "text/plain": [
       "                                               title  \\\n",
       "0  U.S. to vote against U.N. resolution calling f...   \n",
       "1   Trump FURIOUS As Latest Obamacare Numbers Pro...   \n",
       "2   Trump Fans Are Asked About ‘P*ssy Grabbing’ R...   \n",
       "3  Russia's Putin tells Palestinians' Abbas he su...   \n",
       "4  Detroit school system's manager to step down t...   \n",
       "\n",
       "                                                text  class  \n",
       "0  UNITED NATIONS (Reuters) - The United States w...      1  \n",
       "1  Donald Trump s approval rating plummeted after...      0  \n",
       "2  Donald Trump s lewd and predatory remarks abou...      0  \n",
       "3  MOSCOW (Reuters) - Russian President Vladimir ...      1  \n",
       "4  DETROIT (Reuters) - Detroit Public Schools’ em...      1  "
      ]
     },
     "execution_count": 59,
     "metadata": {},
     "output_type": "execute_result"
    }
   ],
   "source": [
    "dataset.head()"
   ]
  },
  {
   "cell_type": "code",
   "execution_count": 62,
   "metadata": {},
   "outputs": [
    {
     "name": "stdout",
     "output_type": "stream",
     "text": [
      "CPU times: user 28min 53s, sys: 5min 45s, total: 34min 39s\n",
      "Wall time: 35min 10s\n"
     ]
    }
   ],
   "source": [
    "%%time\n",
    "# apply regex tokenizing conditions directly to dataset\n",
    "dataset['title'] = dataset['title'].apply(tokenize)\n",
    "dataset['text'] = dataset['text'].apply(tokenize)"
   ]
  },
  {
   "cell_type": "markdown",
   "metadata": {},
   "source": [
    "##### After tokenizing:"
   ]
  },
  {
   "cell_type": "code",
   "execution_count": 63,
   "metadata": {},
   "outputs": [
    {
     "data": {
      "text/html": [
       "<div>\n",
       "<style scoped>\n",
       "    .dataframe tbody tr th:only-of-type {\n",
       "        vertical-align: middle;\n",
       "    }\n",
       "\n",
       "    .dataframe tbody tr th {\n",
       "        vertical-align: top;\n",
       "    }\n",
       "\n",
       "    .dataframe thead th {\n",
       "        text-align: right;\n",
       "    }\n",
       "</style>\n",
       "<table border=\"1\" class=\"dataframe\">\n",
       "  <thead>\n",
       "    <tr style=\"text-align: right;\">\n",
       "      <th></th>\n",
       "      <th>title</th>\n",
       "      <th>text</th>\n",
       "      <th>class</th>\n",
       "    </tr>\n",
       "  </thead>\n",
       "  <tbody>\n",
       "    <tr>\n",
       "      <th>0</th>\n",
       "      <td>u vote u n resolution calling end cuba embargo</td>\n",
       "      <td>united nation reuters united state vote u n ge...</td>\n",
       "      <td>1</td>\n",
       "    </tr>\n",
       "    <tr>\n",
       "      <th>1</th>\n",
       "      <td>trump furious latest obamacare number prove go...</td>\n",
       "      <td>donald trump approval rating plummeted disastr...</td>\n",
       "      <td>0</td>\n",
       "    </tr>\n",
       "    <tr>\n",
       "      <th>2</th>\n",
       "      <td>trump fan asked p ssy grabbing remark get real...</td>\n",
       "      <td>donald trump lewd predatory remark woman causi...</td>\n",
       "      <td>0</td>\n",
       "    </tr>\n",
       "    <tr>\n",
       "      <th>3</th>\n",
       "      <td>russia putin tell palestinian abbas support ta...</td>\n",
       "      <td>moscow reuters russian president vladimir puti...</td>\n",
       "      <td>1</td>\n",
       "    </tr>\n",
       "    <tr>\n",
       "      <th>4</th>\n",
       "      <td>detroit school system manager step month</td>\n",
       "      <td>detroit reuters detroit public school emergenc...</td>\n",
       "      <td>1</td>\n",
       "    </tr>\n",
       "  </tbody>\n",
       "</table>\n",
       "</div>"
      ],
      "text/plain": [
       "                                               title  \\\n",
       "0     u vote u n resolution calling end cuba embargo   \n",
       "1  trump furious latest obamacare number prove go...   \n",
       "2  trump fan asked p ssy grabbing remark get real...   \n",
       "3  russia putin tell palestinian abbas support ta...   \n",
       "4           detroit school system manager step month   \n",
       "\n",
       "                                                text  class  \n",
       "0  united nation reuters united state vote u n ge...      1  \n",
       "1  donald trump approval rating plummeted disastr...      0  \n",
       "2  donald trump lewd predatory remark woman causi...      0  \n",
       "3  moscow reuters russian president vladimir puti...      1  \n",
       "4  detroit reuters detroit public school emergenc...      1  "
      ]
     },
     "execution_count": 63,
     "metadata": {},
     "output_type": "execute_result"
    }
   ],
   "source": [
    "dataset.head()"
   ]
  },
  {
   "cell_type": "markdown",
   "metadata": {},
   "source": [
    "* Only taking news title"
   ]
  },
  {
   "cell_type": "code",
   "execution_count": 79,
   "metadata": {},
   "outputs": [
    {
     "data": {
      "text/html": [
       "<div>\n",
       "<style scoped>\n",
       "    .dataframe tbody tr th:only-of-type {\n",
       "        vertical-align: middle;\n",
       "    }\n",
       "\n",
       "    .dataframe tbody tr th {\n",
       "        vertical-align: top;\n",
       "    }\n",
       "\n",
       "    .dataframe thead th {\n",
       "        text-align: right;\n",
       "    }\n",
       "</style>\n",
       "<table border=\"1\" class=\"dataframe\">\n",
       "  <thead>\n",
       "    <tr style=\"text-align: right;\">\n",
       "      <th></th>\n",
       "      <th>title</th>\n",
       "      <th>class</th>\n",
       "    </tr>\n",
       "  </thead>\n",
       "  <tbody>\n",
       "    <tr>\n",
       "      <th>0</th>\n",
       "      <td>u vote u n resolution calling end cuba embargo</td>\n",
       "      <td>1</td>\n",
       "    </tr>\n",
       "    <tr>\n",
       "      <th>1</th>\n",
       "      <td>trump furious latest obamacare number prove go...</td>\n",
       "      <td>0</td>\n",
       "    </tr>\n",
       "    <tr>\n",
       "      <th>2</th>\n",
       "      <td>trump fan asked p ssy grabbing remark get real...</td>\n",
       "      <td>0</td>\n",
       "    </tr>\n",
       "    <tr>\n",
       "      <th>3</th>\n",
       "      <td>russia putin tell palestinian abbas support ta...</td>\n",
       "      <td>1</td>\n",
       "    </tr>\n",
       "    <tr>\n",
       "      <th>4</th>\n",
       "      <td>detroit school system manager step month</td>\n",
       "      <td>1</td>\n",
       "    </tr>\n",
       "    <tr>\n",
       "      <th>...</th>\n",
       "      <td>...</td>\n",
       "      <td>...</td>\n",
       "    </tr>\n",
       "    <tr>\n",
       "      <th>44262</th>\n",
       "      <td>hillary scold major contributor terrorist grou...</td>\n",
       "      <td>0</td>\n",
       "    </tr>\n",
       "    <tr>\n",
       "      <th>44263</th>\n",
       "      <td>watch jon stewart come retirement warn america...</td>\n",
       "      <td>0</td>\n",
       "    </tr>\n",
       "    <tr>\n",
       "      <th>44264</th>\n",
       "      <td>senator urge trump administration act myanmar ...</td>\n",
       "      <td>1</td>\n",
       "    </tr>\n",
       "    <tr>\n",
       "      <th>44265</th>\n",
       "      <td>charlottesville violence test trump presidenti...</td>\n",
       "      <td>1</td>\n",
       "    </tr>\n",
       "    <tr>\n",
       "      <th>44266</th>\n",
       "      <td>obama say trump immigration move cruel require...</td>\n",
       "      <td>1</td>\n",
       "    </tr>\n",
       "  </tbody>\n",
       "</table>\n",
       "<p>44267 rows × 2 columns</p>\n",
       "</div>"
      ],
      "text/plain": [
       "                                                   title  class\n",
       "0         u vote u n resolution calling end cuba embargo      1\n",
       "1      trump furious latest obamacare number prove go...      0\n",
       "2      trump fan asked p ssy grabbing remark get real...      0\n",
       "3      russia putin tell palestinian abbas support ta...      1\n",
       "4               detroit school system manager step month      1\n",
       "...                                                  ...    ...\n",
       "44262  hillary scold major contributor terrorist grou...      0\n",
       "44263  watch jon stewart come retirement warn america...      0\n",
       "44264  senator urge trump administration act myanmar ...      1\n",
       "44265  charlottesville violence test trump presidenti...      1\n",
       "44266  obama say trump immigration move cruel require...      1\n",
       "\n",
       "[44267 rows x 2 columns]"
      ]
     },
     "execution_count": 79,
     "metadata": {},
     "output_type": "execute_result"
    }
   ],
   "source": [
    "dataset_title_only = dataset.drop(columns=['text'])\n",
    "dataset_title_only"
   ]
  },
  {
   "cell_type": "markdown",
   "metadata": {},
   "source": [
    "### Train, test, validate, split"
   ]
  },
  {
   "cell_type": "markdown",
   "metadata": {},
   "source": [
    "g"
   ]
  },
  {
   "cell_type": "code",
   "execution_count": 32,
   "metadata": {},
   "outputs": [],
   "source": [
    "# g's custom function\n",
    "def train_validate_test_split(df, train_percent=.6, validate_percent=.2, seed=None):\n",
    "    np.random.seed(seed)\n",
    "    perm = np.random.permutation(df.index)\n",
    "    m = len(df.index)\n",
    "    train_end = int(train_percent * m)\n",
    "    validate_end = int(validate_percent * m) + train_end\n",
    "    train = df.iloc[perm[:train_end]]\n",
    "    validate = df.iloc[perm[train_end:validate_end]]\n",
    "    test = df.iloc[perm[validate_end:]]\n",
    "    return train, validate, test"
   ]
  },
  {
   "cell_type": "code",
   "execution_count": 80,
   "metadata": {},
   "outputs": [],
   "source": [
    "trn, val, tst = train_validate_test_split(dataset_title_only, train_percent=0.7, validate_percent=0.2, seed=1)\n",
    "# true_trn, true_val, true_tst = train_validate_test_split(real, train_percent=0.7, validate_percent=0.2, seed=1)"
   ]
  },
  {
   "cell_type": "code",
   "execution_count": 81,
   "metadata": {},
   "outputs": [
    {
     "name": "stdout",
     "output_type": "stream",
     "text": [
      "Training set: 30986\n",
      "Validation set: 8853\n",
      "Test set: 4428\n"
     ]
    }
   ],
   "source": [
    "print(\"Training set: \" + str(len(trn)))\n",
    "print(\"Validation set: \" + str(len(val)))\n",
    "print(\"Test set: \" + str(len(tst)))"
   ]
  },
  {
   "cell_type": "code",
   "execution_count": 82,
   "metadata": {},
   "outputs": [
    {
     "data": {
      "text/html": [
       "<div>\n",
       "<style scoped>\n",
       "    .dataframe tbody tr th:only-of-type {\n",
       "        vertical-align: middle;\n",
       "    }\n",
       "\n",
       "    .dataframe tbody tr th {\n",
       "        vertical-align: top;\n",
       "    }\n",
       "\n",
       "    .dataframe thead th {\n",
       "        text-align: right;\n",
       "    }\n",
       "</style>\n",
       "<table border=\"1\" class=\"dataframe\">\n",
       "  <thead>\n",
       "    <tr style=\"text-align: right;\">\n",
       "      <th></th>\n",
       "      <th>title</th>\n",
       "      <th>class</th>\n",
       "    </tr>\n",
       "  </thead>\n",
       "  <tbody>\n",
       "    <tr>\n",
       "      <th>33764</th>\n",
       "      <td>funny moron crooked hillary frighten every ame...</td>\n",
       "      <td>0</td>\n",
       "    </tr>\n",
       "    <tr>\n",
       "      <th>28339</th>\n",
       "      <td>u judge throw texas voter id law supported trump</td>\n",
       "      <td>1</td>\n",
       "    </tr>\n",
       "    <tr>\n",
       "      <th>26407</th>\n",
       "      <td>former gop rep think adam schiff recuse russia...</td>\n",
       "      <td>0</td>\n",
       "    </tr>\n",
       "    <tr>\n",
       "      <th>42900</th>\n",
       "      <td>thai junta set firm date election many false s...</td>\n",
       "      <td>1</td>\n",
       "    </tr>\n",
       "    <tr>\n",
       "      <th>32967</th>\n",
       "      <td>first person killed terrorist speeding truck a...</td>\n",
       "      <td>0</td>\n",
       "    </tr>\n",
       "    <tr>\n",
       "      <th>...</th>\n",
       "      <td>...</td>\n",
       "      <td>...</td>\n",
       "    </tr>\n",
       "    <tr>\n",
       "      <th>39501</th>\n",
       "      <td>saudi arabia something truly disgusting attemp...</td>\n",
       "      <td>0</td>\n",
       "    </tr>\n",
       "    <tr>\n",
       "      <th>26996</th>\n",
       "      <td>jockeying cash north korea allows racetrack ga...</td>\n",
       "      <td>1</td>\n",
       "    </tr>\n",
       "    <tr>\n",
       "      <th>7320</th>\n",
       "      <td>egypt declares three day mourning attack north...</td>\n",
       "      <td>1</td>\n",
       "    </tr>\n",
       "    <tr>\n",
       "      <th>38938</th>\n",
       "      <td>trump indonesian business partner see conflict...</td>\n",
       "      <td>1</td>\n",
       "    </tr>\n",
       "    <tr>\n",
       "      <th>5321</th>\n",
       "      <td>lie witness news jimmy kimmel show asks people...</td>\n",
       "      <td>0</td>\n",
       "    </tr>\n",
       "  </tbody>\n",
       "</table>\n",
       "<p>30986 rows × 2 columns</p>\n",
       "</div>"
      ],
      "text/plain": [
       "                                                   title  class\n",
       "33764  funny moron crooked hillary frighten every ame...      0\n",
       "28339   u judge throw texas voter id law supported trump      1\n",
       "26407  former gop rep think adam schiff recuse russia...      0\n",
       "42900  thai junta set firm date election many false s...      1\n",
       "32967  first person killed terrorist speeding truck a...      0\n",
       "...                                                  ...    ...\n",
       "39501  saudi arabia something truly disgusting attemp...      0\n",
       "26996  jockeying cash north korea allows racetrack ga...      1\n",
       "7320   egypt declares three day mourning attack north...      1\n",
       "38938  trump indonesian business partner see conflict...      1\n",
       "5321   lie witness news jimmy kimmel show asks people...      0\n",
       "\n",
       "[30986 rows x 2 columns]"
      ]
     },
     "execution_count": 82,
     "metadata": {},
     "output_type": "execute_result"
    }
   ],
   "source": [
    "trn"
   ]
  },
  {
   "cell_type": "markdown",
   "metadata": {},
   "source": [
    "### TO CSV\n",
    "\n",
    "The exported files will contain the processed dataset that will be used for further exploration."
   ]
  },
  {
   "cell_type": "code",
   "execution_count": 83,
   "metadata": {},
   "outputs": [],
   "source": [
    "### Save texts\n",
    "trn.to_csv('./preprocessed_data/trn.csv', header=False, index=False)\n",
    "val.to_csv('./preprocessed_data/val.csv', header=False, index=False)\n",
    "tst.to_csv('./preprocessed_data/tst.csv', header=False, index=False)"
   ]
  },
  {
   "cell_type": "code",
   "execution_count": 86,
   "metadata": {},
   "outputs": [
    {
     "data": {
      "text/plain": [
       "'u vote u n resolution calling end cuba embargo'"
      ]
     },
     "execution_count": 86,
     "metadata": {},
     "output_type": "execute_result"
    }
   ],
   "source": [
    "trn['title'][0]"
   ]
  },
  {
   "cell_type": "markdown",
   "metadata": {},
   "source": [
    "end of g"
   ]
  },
  {
   "cell_type": "code",
   "execution_count": null,
   "metadata": {},
   "outputs": [],
   "source": [
    "# from sklearn.model_selection import train_test_split\n",
    "\n",
    "# # Let's say we want to split the data in 80:10:10 for train:valid:test dataset\n",
    "# train_size=0.8\n",
    "\n",
    "# X = tokenized_title\n",
    "# y = classes\n",
    "\n",
    "# # In the first step we will split the data in training and remaining dataset\n",
    "# X_train, X_rem, y_train, y_rem = train_test_split(X,y, train_size=0.8)\n",
    "\n",
    "# # Now since we want the valid and test size to be equal (10% each of overall data). \n",
    "# # we have to define valid_size=0.5 (that is 50% of remaining data)\n",
    "# test_size = 0.5\n",
    "# X_valid, X_test, y_valid, y_test = train_test_split(X_rem,y_rem, test_size=0.5)\n",
    "# print(X_train.shape), print(y_train.shape)\n",
    "# print(X_valid.shape), print(y_valid.shape)\n",
    "# print(X_test.shape), print(y_test.shape)"
   ]
  },
  {
   "cell_type": "code",
   "execution_count": 30,
   "metadata": {},
   "outputs": [],
   "source": [
    "# # getting the seperated datasets (train, test, validate) with both x and y\n",
    "# train_title = pd.merge(X_train, y_train, right_index=True, left_index=True)\n",
    "# validate_title = pd.merge(X_valid, y_valid, right_index=True, left_index=True)\n",
    "# test_title = pd.merge(X_test, y_test, right_index=True, left_index=True)\n",
    "\n",
    "# train_title.reset_index(inplace=True, drop=True)\n",
    "# validate_title.reset_index(inplace=True, drop=True)\n",
    "# test_title.reset_index(inplace=True, drop=True)"
   ]
  },
  {
   "cell_type": "markdown",
   "metadata": {},
   "source": [
    "### TO CSV\n",
    "\n",
    "The exported files will contain the processed dataset that will be used for further exploration."
   ]
  },
  {
   "cell_type": "code",
   "execution_count": null,
   "metadata": {},
   "outputs": [],
   "source": [
    "# train_title.to_csv('./preprocessed_data/train_title.csv', header=True, index=True)\n",
    "# validate_title.to_csv('./preprocessed_data/validate_title.csv', header=True, index=True)\n",
    "# test_title.to_csv('./preprocessed_data/test_title.csv', header=True, index=True)"
   ]
  }
 ],
 "metadata": {
  "kernelspec": {
   "display_name": "Python 3 (ipykernel)",
   "language": "python",
   "name": "python3"
  },
  "language_info": {
   "codemirror_mode": {
    "name": "ipython",
    "version": 3
   },
   "file_extension": ".py",
   "mimetype": "text/x-python",
   "name": "python",
   "nbconvert_exporter": "python",
   "pygments_lexer": "ipython3",
   "version": "3.8.8"
  },
  "vscode": {
   "interpreter": {
    "hash": "312f10bfb794681ef99ad75ab0899dc364ed5abe6db0740b8615ec6392ed5ce1"
   }
  }
 },
 "nbformat": 4,
 "nbformat_minor": 2
}
