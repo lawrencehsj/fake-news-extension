{
 "cells": [
  {
   "cell_type": "markdown",
   "metadata": {},
   "source": [
    "## Modeling"
   ]
  },
  {
   "cell_type": "code",
   "execution_count": null,
   "metadata": {},
   "outputs": [],
   "source": [
    "pip install pandas nltk sklearn tensorflow-hub tensorflow"
   ]
  },
  {
   "cell_type": "code",
   "execution_count": 1,
   "metadata": {},
   "outputs": [],
   "source": [
    "import pandas as pd\n",
    "import numpy as np\n",
    "import re\n",
    "import nltk\n",
    "import joblib\n",
    "import matplotlib.pyplot as plt\n",
    "\n",
    "from sklearn.model_selection import train_test_split\n",
    "from sklearn.metrics import accuracy_score, precision_score, f1_score, recall_score\n",
    "from sklearn.metrics import classification_report, plot_confusion_matrix\n",
    "\n",
    "from sklearn.feature_extraction.text import CountVectorizer, TfidfVectorizer, TfidfTransformer\n",
    "from sklearn.linear_model import LogisticRegression\n",
    "from sklearn.pipeline import Pipeline"
   ]
  },
  {
   "cell_type": "markdown",
   "metadata": {},
   "source": [
    "#### Retrieve preprocessed data"
   ]
  },
  {
   "cell_type": "code",
   "execution_count": 2,
   "metadata": {},
   "outputs": [],
   "source": [
    "train = pd.read_csv('./preprocessed_data/trn.csv', delimiter = ',', names=['title','class'])\n",
    "validate = pd.read_csv('./preprocessed_data/val.csv', delimiter = ',', names=['title','class'])\n",
    "test = pd.read_csv('./preprocessed_data/tst.csv', delimiter = ',', names=['title','class'])\n",
    "\n",
    "x_train = train['title']\n",
    "x_test = test['title']\n",
    "x_validate = validate['title']\n",
    "\n",
    "y_train = train['class']\n",
    "y_test = test['class']\n",
    "y_validate = validate['class']"
   ]
  },
  {
   "cell_type": "code",
   "execution_count": 3,
   "metadata": {},
   "outputs": [
    {
     "name": "stdout",
     "output_type": "stream",
     "text": [
      "(30986, 2)\n",
      "(30986,)\n",
      "(30986,)\n",
      "(4428, 2)\n",
      "(4428,)\n",
      "(4428,)\n"
     ]
    }
   ],
   "source": [
    "print(train.shape)\n",
    "print(x_train.shape)\n",
    "print(y_train.shape)\n",
    "\n",
    "print(test.shape)\n",
    "print(x_test.shape)\n",
    "print(y_test.shape)"
   ]
  },
  {
   "cell_type": "code",
   "execution_count": 4,
   "metadata": {},
   "outputs": [
    {
     "data": {
      "text/plain": [
       "0        funny moron crooked hillary frighten every ame...\n",
       "1         u judge throw texas voter id law supported trump\n",
       "2        former gop rep think adam schiff recuse russia...\n",
       "3        thai junta set firm date election many false s...\n",
       "4        first person killed terrorist speeding truck a...\n",
       "                               ...                        \n",
       "30981    saudi arabia something truly disgusting attemp...\n",
       "30982    jockeying cash north korea allows racetrack ga...\n",
       "30983    egypt declares three day mourning attack north...\n",
       "30984    trump indonesian business partner see conflict...\n",
       "30985    lie witness news jimmy kimmel show asks people...\n",
       "Name: title, Length: 30986, dtype: object"
      ]
     },
     "execution_count": 4,
     "metadata": {},
     "output_type": "execute_result"
    }
   ],
   "source": [
    "train['title']"
   ]
  },
  {
   "cell_type": "code",
   "execution_count": 5,
   "metadata": {},
   "outputs": [
    {
     "data": {
      "text/plain": [
       "0        0\n",
       "1        1\n",
       "2        0\n",
       "3        1\n",
       "4        0\n",
       "        ..\n",
       "30981    0\n",
       "30982    1\n",
       "30983    1\n",
       "30984    1\n",
       "30985    0\n",
       "Name: class, Length: 30986, dtype: int64"
      ]
     },
     "execution_count": 5,
     "metadata": {},
     "output_type": "execute_result"
    }
   ],
   "source": [
    "train['class']"
   ]
  },
  {
   "cell_type": "markdown",
   "metadata": {},
   "source": [
    "### Embedding\n",
    "\n",
    "##### BoW (Count Vectorizer)"
   ]
  },
  {
   "cell_type": "code",
   "execution_count": 6,
   "metadata": {},
   "outputs": [],
   "source": [
    "count_vectorizer = CountVectorizer()\n",
    "count_vectorizer.fit_transform(x_train)\n",
    "freq_term_matrix = count_vectorizer.transform(x_train)\n",
    "tfidf = TfidfTransformer(norm=\"l2\")\n",
    "tfidf.fit(freq_term_matrix)\n",
    "tf_idf_matrix = tfidf.fit_transform(freq_term_matrix)"
   ]
  },
  {
   "cell_type": "code",
   "execution_count": 7,
   "metadata": {},
   "outputs": [
    {
     "name": "stdout",
     "output_type": "stream",
     "text": [
      "  (0, 479)\t1\n",
      "  (0, 3270)\t1\n",
      "  (0, 4937)\t1\n",
      "  (0, 5727)\t1\n",
      "  (0, 5797)\t1\n",
      "  (0, 6638)\t1\n",
      "  (0, 9137)\t1\n",
      "  (0, 15084)\t1\n",
      "  (1, 6918)\t1\n",
      "  (1, 7653)\t1\n",
      "  (1, 8017)\t1\n",
      "  (1, 13679)\t1\n",
      "  (1, 14049)\t1\n",
      "  (1, 14127)\t1\n",
      "  (1, 14462)\t1\n",
      "  (1, 15179)\t1\n",
      "  (2, 153)\t1\n",
      "  (2, 5631)\t1\n",
      "  (2, 6070)\t1\n",
      "  (2, 10797)\t1\n",
      "  (2, 11258)\t1\n",
      "  (2, 11346)\t1\n",
      "  (2, 11575)\t1\n",
      "  (2, 12085)\t1\n",
      "  (2, 12296)\t1\n",
      "  :\t:\n",
      "  (30983, 9523)\t1\n",
      "  (30983, 12796)\t1\n",
      "  (30983, 13353)\t1\n",
      "  (30983, 13973)\t1\n",
      "  (30983, 14117)\t1\n",
      "  (30984, 1949)\t1\n",
      "  (30984, 2887)\t1\n",
      "  (30984, 7147)\t1\n",
      "  (30984, 7317)\t1\n",
      "  (30984, 10108)\t1\n",
      "  (30984, 12427)\t1\n",
      "  (30984, 14462)\t1\n",
      "  (30985, 781)\t1\n",
      "  (30985, 3476)\t1\n",
      "  (30985, 3510)\t2\n",
      "  (30985, 6413)\t1\n",
      "  (30985, 7588)\t1\n",
      "  (30985, 7798)\t1\n",
      "  (30985, 8190)\t1\n",
      "  (30985, 9428)\t1\n",
      "  (30985, 10240)\t1\n",
      "  (30985, 12708)\t1\n",
      "  (30985, 14105)\t1\n",
      "  (30985, 15084)\t1\n",
      "  (30985, 15526)\t1\n"
     ]
    },
    {
     "data": {
      "text/html": [
       "<div>\n",
       "<style scoped>\n",
       "    .dataframe tbody tr th:only-of-type {\n",
       "        vertical-align: middle;\n",
       "    }\n",
       "\n",
       "    .dataframe tbody tr th {\n",
       "        vertical-align: top;\n",
       "    }\n",
       "\n",
       "    .dataframe thead th {\n",
       "        text-align: right;\n",
       "    }\n",
       "</style>\n",
       "<table border=\"1\" class=\"dataframe\">\n",
       "  <thead>\n",
       "    <tr style=\"text-align: right;\">\n",
       "      <th></th>\n",
       "    </tr>\n",
       "  </thead>\n",
       "  <tbody>\n",
       "  </tbody>\n",
       "</table>\n",
       "</div>"
      ],
      "text/plain": [
       "Empty DataFrame\n",
       "Columns: []\n",
       "Index: []"
      ]
     },
     "execution_count": 7,
     "metadata": {},
     "output_type": "execute_result"
    }
   ],
   "source": [
    "pd.DataFrame(print(freq_term_matrix))"
   ]
  },
  {
   "cell_type": "code",
   "execution_count": 8,
   "metadata": {},
   "outputs": [
    {
     "name": "stdout",
     "output_type": "stream",
     "text": [
      "  (0, 15084)\t0.13843016816211584\n",
      "  (0, 9137)\t0.4499947599038438\n",
      "  (0, 6638)\t0.2036286360315688\n",
      "  (0, 5797)\t0.4034380026678006\n",
      "  (0, 5727)\t0.5204324144420963\n",
      "  (0, 4937)\t0.3438117446027605\n",
      "  (0, 3270)\t0.3499274266015099\n",
      "  (0, 479)\t0.2502185915879352\n",
      "  (1, 15179)\t0.31242279332262335\n",
      "  (1, 14462)\t0.12026174073504135\n",
      "  (1, 14127)\t0.39160438904225275\n",
      "  (1, 14049)\t0.3514964086802417\n",
      "  (1, 13679)\t0.4905581277255484\n",
      "  (1, 8017)\t0.2958227322263944\n",
      "  (1, 7653)\t0.30910587719019567\n",
      "  (1, 6918)\t0.4328054761698361\n",
      "  (2, 14090)\t0.2926896878918712\n",
      "  (2, 12296)\t0.40485259926301137\n",
      "  (2, 12085)\t0.21207542193064866\n",
      "  (2, 11575)\t0.3089281222728203\n",
      "  (2, 11346)\t0.41156323491431374\n",
      "  (2, 11258)\t0.28911242411460486\n",
      "  (2, 10797)\t0.25767958674807995\n",
      "  (2, 6070)\t0.23435233271615463\n",
      "  (2, 5631)\t0.2514685577328871\n",
      "  :\t:\n",
      "  (30983, 9150)\t0.325269912589253\n",
      "  (30983, 4559)\t0.30020334081125344\n",
      "  (30983, 3560)\t0.31790728761548537\n",
      "  (30983, 3476)\t0.23747116912611235\n",
      "  (30983, 869)\t0.21159488746232533\n",
      "  (30984, 14462)\t0.12082103871818012\n",
      "  (30984, 12427)\t0.3194626097764358\n",
      "  (30984, 10108)\t0.44781991128488297\n",
      "  (30984, 7317)\t0.42546927272435103\n",
      "  (30984, 7147)\t0.4515968756165072\n",
      "  (30984, 2887)\t0.41638851116073805\n",
      "  (30984, 1949)\t0.35278890613063907\n",
      "  (30985, 15526)\t0.31411300923816865\n",
      "  (30985, 15084)\t0.10991430967490423\n",
      "  (30985, 14105)\t0.29515144633436824\n",
      "  (30985, 12708)\t0.20327865177153565\n",
      "  (30985, 10240)\t0.21644142771725286\n",
      "  (30985, 9428)\t0.19587394376526127\n",
      "  (30985, 8190)\t0.2339943483979283\n",
      "  (30985, 7798)\t0.32768745650427644\n",
      "  (30985, 7588)\t0.3107952415109029\n",
      "  (30985, 6413)\t0.2930460935671695\n",
      "  (30985, 3510)\t0.47288030830079847\n",
      "  (30985, 3476)\t0.21941544826837422\n",
      "  (30985, 781)\t0.24339420224727587\n"
     ]
    },
    {
     "data": {
      "text/html": [
       "<div>\n",
       "<style scoped>\n",
       "    .dataframe tbody tr th:only-of-type {\n",
       "        vertical-align: middle;\n",
       "    }\n",
       "\n",
       "    .dataframe tbody tr th {\n",
       "        vertical-align: top;\n",
       "    }\n",
       "\n",
       "    .dataframe thead th {\n",
       "        text-align: right;\n",
       "    }\n",
       "</style>\n",
       "<table border=\"1\" class=\"dataframe\">\n",
       "  <thead>\n",
       "    <tr style=\"text-align: right;\">\n",
       "      <th></th>\n",
       "    </tr>\n",
       "  </thead>\n",
       "  <tbody>\n",
       "  </tbody>\n",
       "</table>\n",
       "</div>"
      ],
      "text/plain": [
       "Empty DataFrame\n",
       "Columns: []\n",
       "Index: []"
      ]
     },
     "execution_count": 8,
     "metadata": {},
     "output_type": "execute_result"
    }
   ],
   "source": [
    "pd.DataFrame(print(tf_idf_matrix))"
   ]
  },
  {
   "cell_type": "code",
   "execution_count": 9,
   "metadata": {},
   "outputs": [
    {
     "name": "stdout",
     "output_type": "stream",
     "text": [
      "Vocab size = 15759\n",
      "Size of training data = (30986, 15759)\n",
      "Size of test data = (4428, 15759)\n"
     ]
    }
   ],
   "source": [
    "vectorizer = CountVectorizer(lowercase=False, min_df=1, max_df=1.0, ngram_range=(1,1))\n",
    "x_train_vector = vectorizer.fit_transform(x_train)\n",
    "x_test_vector = vectorizer.transform(x_test)\n",
    "\n",
    "# Data information\n",
    "vocab = vectorizer.vocabulary_\n",
    "print(\"Vocab size = {}\".format(len(vocab)))\n",
    "print(\"Size of training data = {}\".format(x_train_vector.shape))\n",
    "print(\"Size of test data = {}\".format(x_test_vector.shape))"
   ]
  },
  {
   "cell_type": "markdown",
   "metadata": {},
   "source": [
    "### Baseline model Logistic Regression"
   ]
  },
  {
   "cell_type": "code",
   "execution_count": 10,
   "metadata": {},
   "outputs": [
    {
     "name": "stdout",
     "output_type": "stream",
     "text": [
      "Training accuracy = 0.9809914154779578\n",
      "Test accuracy = 0.9480578139114725\n"
     ]
    }
   ],
   "source": [
    "logistic_regression= LogisticRegression(fit_intercept=True, penalty=\"l2\", C=1, max_iter=200)\n",
    "logistic_regression.fit(x_train_vector,y_train)\n",
    "\n",
    "print(\"Training accuracy = {}\".format(logistic_regression.score(x_train_vector, y_train)))\n",
    "print(\"Test accuracy = {}\".format(logistic_regression.score(x_test_vector, y_test)))"
   ]
  },
  {
   "cell_type": "code",
   "execution_count": 11,
   "metadata": {},
   "outputs": [
    {
     "name": "stdout",
     "output_type": "stream",
     "text": [
      "LOGISTIC REGRESSION: PERFORMANCE METRICS\n",
      "\n",
      "\n",
      "Accuracy: 94.81%\n",
      "Precision: 93.64%\n",
      "F1 Score: 94.82%\n",
      "Recall: 96.03%\n"
     ]
    }
   ],
   "source": [
    "predictions_lr=logistic_regression.predict(x_test_vector)\n",
    "\n",
    "print(\"LOGISTIC REGRESSION: PERFORMANCE METRICS\\n\")\n",
    "\n",
    "accuracy_logistic = accuracy_score(y_test, predictions_lr)\n",
    "print(\"Accuracy: %.2f%%\" % (accuracy_logistic * 100.0))\n",
    "\n",
    "precision_logistic = precision_score(y_test, predictions_lr, average=None)\n",
    "print(\"Precision: %.2f%%\" % (precision_logistic[1] * 100.0))\n",
    "\n",
    "f1score_logistic= f1_score(y_test, predictions_lr, average=None)\n",
    "print(\"F1 Score: %.2f%%\" % (f1score_logistic[1] * 100.0))\n",
    "\n",
    "recall_logistic = recall_score(y_test, predictions_lr, average=None)\n",
    "print(\"Recall: %.2f%%\" % (recall_logistic[1] * 100.0))"
   ]
  },
  {
   "cell_type": "code",
   "execution_count": 14,
   "metadata": {},
   "outputs": [
    {
     "name": "stdout",
     "output_type": "stream",
     "text": [
      "\n",
      "Confusion matrix, without normalization\n",
      "[[2091  143]\n",
      " [  87 2107]]\n",
      "\n",
      "Normalized confusion matrix\n",
      "[[0.94 0.06]\n",
      " [0.04 0.96]]\n"
     ]
    },
    {
     "data": {
      "image/png": "[encoded data removed]",
      "text/plain": [
       "<Figure size 432x288 with 2 Axes>"
      ]
     },
     "metadata": {
      "needs_background": "light"
     },
     "output_type": "display_data"
    },
    {
     "data": {
      "image/png": "[encoded data removed]",
      "text/plain": [
       "<Figure size 432x288 with 2 Axes>"
      ]
     },
     "metadata": {
      "needs_background": "light"
     },
     "output_type": "display_data"
    }
   ],
   "source": [
    "class_names = ['True', 'False']\n",
    "\n",
    "np.set_printoptions(precision=2)\n",
    "\n",
    "# Plot non-normalized confusion matrix\n",
    "titles_options = [(\"Confusion matrix, without normalization\", None),\n",
    "                  (\"Normalized confusion matrix\", 'true')]\n",
    "for title, normalize in titles_options:\n",
    "    disp = plot_confusion_matrix(logistic_regression, x_test_vector, y_test,\n",
    "                                 display_labels=class_names,\n",
    "                                 cmap=plt.cm.Blues,\n",
    "                                 normalize=normalize)\n",
    "    disp.ax_.set_title(title)\n",
    "\n",
    "    print()\n",
    "    print(title)\n",
    "    print(disp.confusion_matrix)\n",
    "\n",
    "plt.show()"
   ]
  },
  {
   "cell_type": "markdown",
   "metadata": {},
   "source": [
    "### Running on various models:\n",
    "1. Logistic Regression\n",
    "2. Multinomial NB\n",
    "3. Random Forest Classifier\n",
    "4. GradientBoosting Classifier\n",
    "5. AdaBoost Classifier\n",
    "6. Decision Tree Classifier\n",
    "7. Passive Aggressive Classifier\n",
    "8. SVC"
   ]
  },
  {
   "cell_type": "code",
   "execution_count": null,
   "metadata": {},
   "outputs": [
    {
     "name": "stdout",
     "output_type": "stream",
     "text": [
      "Completed LogisticRegression model training and assessment.\n",
      "Completed MultinomialNB model training and assessment.\n",
      "Completed RandomForestClassifier model training and assessment.\n",
      "Completed GradientBoostingClassifier model training and assessment.\n",
      "Completed AdaBoostClassifier model training and assessment.\n",
      "Completed DecisionTreeClassifier model training and assessment.\n",
      "Completed PassiveAggressiveClassifier model training and assessment.\n",
      "Completed SVC model training and assessment.\n"
     ]
    }
   ],
   "source": [
    "from sklearn.linear_model import LogisticRegression, PassiveAggressiveClassifier\n",
    "from sklearn.naive_bayes import MultinomialNB\n",
    "from sklearn.ensemble import RandomForestClassifier, GradientBoostingClassifier, AdaBoostClassifier\n",
    "from sklearn.tree import DecisionTreeClassifier\n",
    "\n",
    "from sklearn import svm,naive_bayes\n",
    "\n",
    "from sklearn.metrics import precision_score, recall_score, f1_score, accuracy_score\n",
    "\n",
    "# type of models to be explored\n",
    "models = [\n",
    "    LogisticRegression(max_iter=200),\n",
    "    MultinomialNB(),\n",
    "    RandomForestClassifier(n_estimators = 30), #30 decision trees\n",
    "    GradientBoostingClassifier(),\n",
    "    AdaBoostClassifier(n_estimators=50, learning_rate=1),\n",
    "    DecisionTreeClassifier(),\n",
    "    PassiveAggressiveClassifier(max_iter=50),\n",
    "    svm.SVC(C=1.0, kernel='linear', degree=3, gamma='auto')\n",
    "]\n",
    "\n",
    "# metrics table to contain results of model \n",
    "df_metrics = pd.DataFrame(columns=['Model', 'Accuracy - training set', 'Accuracy - testing set', 'Precision', 'Recall', 'f1-score'])\n",
    "\n",
    "def convert_5sf(f):\n",
    "    '''\n",
    "    Helper function to get 5 significant figures from a float.\n",
    "    '''\n",
    "    return float(\"{0:.5f}\".format(f))\n",
    "\n",
    "def model_training(model, i):\n",
    "    '''\n",
    "    Function that runs the model training based on the model specified in the argument on the dataset.\n",
    "    Appends the results to a tabular format for visualisation.\n",
    "    '''\n",
    "    # model type\n",
    "    model_type = type(model).__name__\n",
    "    # fit onto model\n",
    "    model.fit(x_train_vector, y_train)\n",
    "    # predictions of model\n",
    "    Y_pred = model.predict(x_test_vector)\n",
    "\n",
    "    # add to metrics dataframe\n",
    "    df_metrics.loc[i] = [\n",
    "        # model type\n",
    "        type(model).__name__,\n",
    "        # accuracy - training set score and testing set score\n",
    "        convert_5sf(model.score(x_train_vector, y_train)),\n",
    "        convert_5sf(model.score(x_test_vector, y_test)),\n",
    "        convert_5sf(precision_score(y_test, Y_pred)),\n",
    "        convert_5sf(recall_score(y_test, Y_pred)),\n",
    "        convert_5sf(f1_score(y_test, Y_pred))\n",
    "    ]\n",
    "    print('Completed {} model training and assessment.'.format(model_type))\n",
    "\n",
    "# execute model training for each model\n",
    "for i, model in enumerate(models):\n",
    "    model_training(model, i)"
   ]
  },
  {
   "cell_type": "code",
   "execution_count": 49,
   "metadata": {},
   "outputs": [
    {
     "data": {
      "text/html": [
       "<div>\n",
       "<style scoped>\n",
       "    .dataframe tbody tr th:only-of-type {\n",
       "        vertical-align: middle;\n",
       "    }\n",
       "\n",
       "    .dataframe tbody tr th {\n",
       "        vertical-align: top;\n",
       "    }\n",
       "\n",
       "    .dataframe thead th {\n",
       "        text-align: right;\n",
       "    }\n",
       "</style>\n",
       "<table border=\"1\" class=\"dataframe\">\n",
       "  <thead>\n",
       "    <tr style=\"text-align: right;\">\n",
       "      <th></th>\n",
       "      <th>Model</th>\n",
       "      <th>Accuracy - testing set</th>\n",
       "      <th>Precision</th>\n",
       "      <th>Recall</th>\n",
       "      <th>f1-score</th>\n",
       "    </tr>\n",
       "  </thead>\n",
       "  <tbody>\n",
       "    <tr>\n",
       "      <th>0</th>\n",
       "      <td>LogisticRegression</td>\n",
       "      <td>0.94806</td>\n",
       "      <td>0.93644</td>\n",
       "      <td>0.96035</td>\n",
       "      <td>0.94824</td>\n",
       "    </tr>\n",
       "    <tr>\n",
       "      <th>1</th>\n",
       "      <td>MultinomialNB</td>\n",
       "      <td>0.93902</td>\n",
       "      <td>0.94703</td>\n",
       "      <td>0.92890</td>\n",
       "      <td>0.93787</td>\n",
       "    </tr>\n",
       "    <tr>\n",
       "      <th>2</th>\n",
       "      <td>RandomForestClassifier</td>\n",
       "      <td>0.93089</td>\n",
       "      <td>0.92105</td>\n",
       "      <td>0.94120</td>\n",
       "      <td>0.93102</td>\n",
       "    </tr>\n",
       "    <tr>\n",
       "      <th>3</th>\n",
       "      <td>GradientBoostingClassifier</td>\n",
       "      <td>0.83220</td>\n",
       "      <td>0.76702</td>\n",
       "      <td>0.94986</td>\n",
       "      <td>0.84871</td>\n",
       "    </tr>\n",
       "    <tr>\n",
       "      <th>4</th>\n",
       "      <td>AdaBoostClassifier</td>\n",
       "      <td>0.84440</td>\n",
       "      <td>0.78865</td>\n",
       "      <td>0.93710</td>\n",
       "      <td>0.85649</td>\n",
       "    </tr>\n",
       "    <tr>\n",
       "      <th>5</th>\n",
       "      <td>DecisionTreeClassifier</td>\n",
       "      <td>0.90402</td>\n",
       "      <td>0.90667</td>\n",
       "      <td>0.89881</td>\n",
       "      <td>0.90272</td>\n",
       "    </tr>\n",
       "    <tr>\n",
       "      <th>6</th>\n",
       "      <td>PassiveAggressiveClassifier</td>\n",
       "      <td>0.93564</td>\n",
       "      <td>0.93054</td>\n",
       "      <td>0.94029</td>\n",
       "      <td>0.93539</td>\n",
       "    </tr>\n",
       "    <tr>\n",
       "      <th>7</th>\n",
       "      <td>SVC</td>\n",
       "      <td>0.94557</td>\n",
       "      <td>0.94006</td>\n",
       "      <td>0.95077</td>\n",
       "      <td>0.94539</td>\n",
       "    </tr>\n",
       "  </tbody>\n",
       "</table>\n",
       "</div>"
      ],
      "text/plain": [
       "                         Model  Accuracy - testing set  Precision   Recall  \\\n",
       "0           LogisticRegression                 0.94806    0.93644  0.96035   \n",
       "1                MultinomialNB                 0.93902    0.94703  0.92890   \n",
       "2       RandomForestClassifier                 0.93089    0.92105  0.94120   \n",
       "3   GradientBoostingClassifier                 0.83220    0.76702  0.94986   \n",
       "4           AdaBoostClassifier                 0.84440    0.78865  0.93710   \n",
       "5       DecisionTreeClassifier                 0.90402    0.90667  0.89881   \n",
       "6  PassiveAggressiveClassifier                 0.93564    0.93054  0.94029   \n",
       "7                          SVC                 0.94557    0.94006  0.95077   \n",
       "\n",
       "   f1-score  \n",
       "0   0.94824  \n",
       "1   0.93787  \n",
       "2   0.93102  \n",
       "3   0.84871  \n",
       "4   0.85649  \n",
       "5   0.90272  \n",
       "6   0.93539  \n",
       "7   0.94539  "
      ]
     },
     "execution_count": 49,
     "metadata": {},
     "output_type": "execute_result"
    }
   ],
   "source": [
    "# display the results of model training for all models\n",
    "df_metrics[['Model', 'Accuracy - testing set', 'Precision', 'Recall', 'f1-score']]"
   ]
  },
  {
   "cell_type": "markdown",
   "metadata": {},
   "source": [
    "#### Identify the best results yielded by the various models"
   ]
  },
  {
   "cell_type": "code",
   "execution_count": 50,
   "metadata": {},
   "outputs": [
    {
     "name": "stdout",
     "output_type": "stream",
     "text": [
      "Max accuracy score: LogisticRegression 0.94806\n",
      "Max f1 score: LogisticRegression 0.94824\n"
     ]
    }
   ],
   "source": [
    "# look for the best accuracy and f1 score\n",
    "max_test_accuracy_index = df_metrics['Accuracy - testing set'].idxmax()\n",
    "max_f1_score_index = df_metrics['f1-score'].idxmax()\n",
    "\n",
    "print('Max accuracy score: ' + df_metrics['Model'][max_test_accuracy_index] + ' ' + str(df_metrics['Accuracy - testing set'][max_test_accuracy_index]))\n",
    "print('Max f1 score: ' + df_metrics['Model'][max_f1_score_index] + ' ' + str(df_metrics['f1-score'][max_f1_score_index]))"
   ]
  },
  {
   "cell_type": "markdown",
   "metadata": {},
   "source": [
    "Logistics Regression seems to work the best with BoW and have the highest accuracy score."
   ]
  },
  {
   "cell_type": "markdown",
   "metadata": {},
   "source": [
    "## Deep learning Models"
   ]
  },
  {
   "cell_type": "code",
   "execution_count": null,
   "metadata": {},
   "outputs": [],
   "source": [
    "pip install tensorflow"
   ]
  },
  {
   "cell_type": "code",
   "execution_count": 4,
   "metadata": {},
   "outputs": [],
   "source": [
    "import tensorflow as tf\n",
    "from sklearn.utils import shuffle\n",
    "from tensorflow.keras.preprocessing.text import Tokenizer\n",
    "from tensorflow.keras.preprocessing.sequence import pad_sequences\n",
    "from tensorflow.keras.utils import to_categorical\n",
    "from tensorflow.keras import regularizers\n",
    "from tensorflow.keras import backend as K"
   ]
  },
  {
   "cell_type": "code",
   "execution_count": 24,
   "metadata": {},
   "outputs": [
    {
     "data": {
      "text/plain": [
       "(30986,)"
      ]
     },
     "execution_count": 24,
     "metadata": {},
     "output_type": "execute_result"
    }
   ],
   "source": [
    "x_train.shape"
   ]
  },
  {
   "cell_type": "markdown",
   "metadata": {},
   "source": [
    "##### Using keras's inbuilt Tokenizer to convert vectors to be part of the NN model.\n",
    "1. Create a tokenizer object from keras.preprocessing.text.\n",
    "2. Fit the tokenizer on the sentences that form the training set. This operation creates a \"vocabulary\" based on the input text.\n",
    "3. Create numerical sequences, e.g., [1,123,42,67,....,91], by only accounting for the most frequent \"max_words - 1\" words. This \"converts\" the training sequences into vectors where entries reflect the \"ID\" that each word has in the vocabulary.\n",
    "4. Pad these training sequences to ensure that all of them include \"max_len\" entries. The padding, i.e., adding zeros until length(sequence) = max_len, and truncating, i.e., removing entries until length(sequence) = max_len, are set to \"post\", i.e., these operations are conducted at the end of the sequence.\n",
    "5. Create numerical sequences, e.g., [1,123,42,67,....,91], by only accounting for the most frequent \"max_words - 1\" words. This \"converts\" the test sequences into vectors where entries reflect the \"ID\" that each word has in the vocabulary. Note that we have not created a new vocabulary for test sequences. This decision allows us to prevent any \"information leak\" from the test set.\n",
    "6. Pad these test sequences to ensure that all of them include \"max_len\" entries. The padding, i.e., adding zeros until length(sequence) = max_len, and truncating, i.e., removing entries until length(sequence) = max_len, are set to \"post\", i.e., these operations are conducted at the end of the sequence."
   ]
  },
  {
   "cell_type": "code",
   "execution_count": 19,
   "metadata": {},
   "outputs": [
    {
     "name": "stdout",
     "output_type": "stream",
     "text": [
      "15777\n"
     ]
    }
   ],
   "source": [
    "max_features = 1000\n",
    "tokenizer = Tokenizer(num_words = max_features, \n",
    "                      filters='!\"#$%&()*+,-./:;<=>?@[\\\\]^_`{|}~\\t\\n', \n",
    "                      lower = True, split = ' ')\n",
    "tokenizer.fit_on_texts(texts = x_train)\n",
    "word_index = tokenizer.word_index\n",
    "vocab_size = len(word_index)\n",
    "print(vocab_size)"
   ]
  },
  {
   "cell_type": "code",
   "execution_count": 20,
   "metadata": {},
   "outputs": [
    {
     "name": "stdout",
     "output_type": "stream",
     "text": [
      "(30986, 1000)\n",
      "(4428, 1000)\n",
      "(30986,)\n",
      "(4428,)\n"
     ]
    }
   ],
   "source": [
    "X_train_tokenized = tokenizer.texts_to_sequences(texts = x_train)\n",
    "X_train_tokenized = pad_sequences(X_train_tokenized, maxlen = max_features, padding='pre')\n",
    "\n",
    "X_test_tokenized = tokenizer.texts_to_sequences(texts = x_test)\n",
    "X_test_tokenized = pad_sequences(X_test_tokenized, maxlen = max_features, padding='pre')\n",
    "\n",
    "print(X_train_tokenized.shape)\n",
    "print(X_test_tokenized.shape)\n",
    "print(y_train.shape)\n",
    "print(y_test.shape)"
   ]
  },
  {
   "cell_type": "markdown",
   "metadata": {},
   "source": [
    "### Baseline Dense Model\n",
    "* alternating dense layers with 512 neurons\n",
    "* dropout layers set to a rate of 0.2\n",
    "* max_features of 200"
   ]
  },
  {
   "cell_type": "code",
   "execution_count": 21,
   "metadata": {},
   "outputs": [
    {
     "name": "stdout",
     "output_type": "stream",
     "text": [
      "15777\n",
      "(30986, 200)\n",
      "(4428, 200)\n",
      "(30986,)\n",
      "(4428,)\n"
     ]
    }
   ],
   "source": [
    "# max_features = 200\n",
    "# tokenizer = Tokenizer(num_words = max_features, \n",
    "#                       filters='!\"#$%&()*+,-./:;<=>?@[\\\\]^_`{|}~\\t\\n', \n",
    "#                       lower = True, split = ' ')\n",
    "# tokenizer.fit_on_texts(texts = x_train)\n",
    "# word_index = tokenizer.word_index\n",
    "# vocab_size = len(word_index)\n",
    "# print(vocab_size)\n",
    "\n",
    "# X_train_tokenized = tokenizer.texts_to_sequences(texts = x_train)\n",
    "# X_train_tokenized = pad_sequences(X_train_tokenized, maxlen = max_features, padding='pre')\n",
    "\n",
    "# X_test_tokenized = tokenizer.texts_to_sequences(texts = x_test)\n",
    "# X_test_tokenized = pad_sequences(X_test_tokenized, maxlen = max_features, padding='pre')\n",
    "\n",
    "# print(X_train_tokenized.shape)\n",
    "# print(X_test_tokenized.shape)\n",
    "# print(y_train.shape)\n",
    "# print(y_test.shape)\n",
    "\n",
    "model = tf.keras.Sequential([\n",
    "    tf.keras.layers.Embedding(input_dim = max_features, output_dim = 120),                         \n",
    "    tf.keras.layers.Dense(512, kernel_regularizer=regularizers.l2(0.0001),\n",
    "                 activation='elu'),\n",
    "    tf.keras.layers.Dropout(0.5),\n",
    "    tf.keras.layers.Dense(512, kernel_regularizer=regularizers.l2(0.0001),\n",
    "                 activation='elu'),\n",
    "    tf.keras.layers.Dropout(0.5),\n",
    "    tf.keras.layers.Dense(512, kernel_regularizer=regularizers.l2(0.0001),\n",
    "                 activation='elu'),\n",
    "    tf.keras.layers.Dropout(0.5),\n",
    "    tf.keras.layers.Dense(512, kernel_regularizer=regularizers.l2(0.0001),\n",
    "                 activation='elu'),\n",
    "    tf.keras.layers.Dropout(0.5),\n",
    "    tf.keras.layers.Dense(1)\n",
    "])\n"
   ]
  },
  {
   "cell_type": "code",
   "execution_count": 22,
   "metadata": {},
   "outputs": [
    {
     "name": "stdout",
     "output_type": "stream",
     "text": [
      "Model: \"sequential_4\"\n",
      "_________________________________________________________________\n",
      " Layer (type)                Output Shape              Param #   \n",
      "=================================================================\n",
      " embedding_4 (Embedding)     (None, None, 120)         24000     \n",
      "                                                                 \n",
      " dense_20 (Dense)            (None, None, 512)         61952     \n",
      "                                                                 \n",
      " dropout_16 (Dropout)        (None, None, 512)         0         \n",
      "                                                                 \n",
      " dense_21 (Dense)            (None, None, 512)         262656    \n",
      "                                                                 \n",
      " dropout_17 (Dropout)        (None, None, 512)         0         \n",
      "                                                                 \n",
      " dense_22 (Dense)            (None, None, 512)         262656    \n",
      "                                                                 \n",
      " dropout_18 (Dropout)        (None, None, 512)         0         \n",
      "                                                                 \n",
      " dense_23 (Dense)            (None, None, 512)         262656    \n",
      "                                                                 \n",
      " dropout_19 (Dropout)        (None, None, 512)         0         \n",
      "                                                                 \n",
      " dense_24 (Dense)            (None, None, 1)           513       \n",
      "                                                                 \n",
      "=================================================================\n",
      "Total params: 874,433\n",
      "Trainable params: 874,433\n",
      "Non-trainable params: 0\n",
      "_________________________________________________________________\n",
      "Epoch 1/5\n",
      "310/310 [==============================] - 252s 808ms/step - loss: 0.8937 - accuracy: 0.5052 - val_loss: 0.8437 - val_accuracy: 0.5076\n",
      "Epoch 2/5\n",
      "310/310 [==============================] - 247s 798ms/step - loss: 0.8346 - accuracy: 0.5102 - val_loss: 0.8237 - val_accuracy: 0.5076\n",
      "Epoch 3/5\n",
      "310/310 [==============================] - 265s 854ms/step - loss: 0.8086 - accuracy: 0.5114 - val_loss: 0.7960 - val_accuracy: 0.5004\n",
      "Epoch 4/5\n",
      "310/310 [==============================] - 245s 791ms/step - loss: 0.7857 - accuracy: 0.5105 - val_loss: 0.7749 - val_accuracy: 0.5076\n",
      "Epoch 5/5\n",
      "310/310 [==============================] - 254s 821ms/step - loss: 0.7675 - accuracy: 0.5096 - val_loss: 0.7586 - val_accuracy: 0.5076\n",
      "CPU times: user 1h 40min 7s, sys: 16min 27s, total: 1h 56min 35s\n",
      "Wall time: 21min 3s\n"
     ]
    }
   ],
   "source": [
    "%%time\n",
    "model.compile(loss='binary_crossentropy', optimizer='adam', metrics=['accuracy'])\n",
    "model.summary()\n",
    "\n",
    "history = model.fit(X_train_tokenized, y_train, epochs=5, batch_size=100, validation_data=(X_test_tokenized, y_test))"
   ]
  },
  {
   "cell_type": "markdown",
   "metadata": {},
   "source": [
    "### Bi-Directional LSTM:\n",
    "* bi-directional LSTM layer\n",
    "* Sequential API - alternating dense layers with 512 neurons\n",
    "* Convulation 1d layer (first layer with 64 sequences of 5 dimension vectors)\n",
    "* dropout layers set at 0.5 rate"
   ]
  },
  {
   "cell_type": "code",
   "execution_count": 88,
   "metadata": {},
   "outputs": [
    {
     "name": "stderr",
     "output_type": "stream",
     "text": [
      "UsageError: Line magic function `%%time` not found.\n"
     ]
    }
   ],
   "source": [
    "model = tf.keras.Sequential([\n",
    "    tf.keras.layers.Embedding(input_dim = max_features, output_dim = 120),\n",
    "    tf.keras.layers.Dropout(0.5),\n",
    "    tf.keras.layers.Conv1D(64, 5, activation='relu', kernel_regularizer=regularizers.l2(0.0001)),\n",
    "    tf.keras.layers.MaxPooling1D(pool_size=4),\n",
    "    tf.keras.layers.Bidirectional(tf.keras.layers.LSTM(100, return_sequences=True)),\n",
    "    tf.keras.layers.Bidirectional(tf.keras.layers.LSTM(100)),\n",
    "    tf.keras.layers.Dropout(0.5),  \n",
    "    tf.keras.layers.Dense(512, kernel_regularizer=regularizers.l2(0.0001)),\n",
    "    tf.keras.layers.Dropout(0.5),  \n",
    "    tf.keras.layers.Dense(256, kernel_regularizer=regularizers.l2(0.0001)),\n",
    "    tf.keras.layers.Dense(1, activation='sigmoid')\n",
    "])"
   ]
  },
  {
   "cell_type": "code",
   "execution_count": 29,
   "metadata": {},
   "outputs": [
    {
     "name": "stdout",
     "output_type": "stream",
     "text": [
      "Model: \"sequential\"\n",
      "_________________________________________________________________\n",
      " Layer (type)                Output Shape              Param #   \n",
      "=================================================================\n",
      " embedding (Embedding)       (None, None, 120)         120000    \n",
      "                                                                 \n",
      " dropout (Dropout)           (None, None, 120)         0         \n",
      "                                                                 \n",
      " conv1d (Conv1D)             (None, None, 64)          38464     \n",
      "                                                                 \n",
      " max_pooling1d (MaxPooling1D  (None, None, 64)         0         \n",
      " )                                                               \n",
      "                                                                 \n",
      " bidirectional (Bidirectiona  (None, None, 200)        132000    \n",
      " l)                                                              \n",
      "                                                                 \n",
      " bidirectional_1 (Bidirectio  (None, 200)              240800    \n",
      " nal)                                                            \n",
      "                                                                 \n",
      " dropout_1 (Dropout)         (None, 200)               0         \n",
      "                                                                 \n",
      " dense (Dense)               (None, 512)               102912    \n",
      "                                                                 \n",
      " dropout_2 (Dropout)         (None, 512)               0         \n",
      "                                                                 \n",
      " dense_1 (Dense)             (None, 256)               131328    \n",
      "                                                                 \n",
      " dense_2 (Dense)             (None, 1)                 257       \n",
      "                                                                 \n",
      "=================================================================\n",
      "Total params: 765,761\n",
      "Trainable params: 765,761\n",
      "Non-trainable params: 0\n",
      "_________________________________________________________________\n",
      "Epoch 1/5\n",
      "310/310 [==============================] - 533s 2s/step - loss: 0.3321 - accuracy: 0.8636 - val_loss: 0.2164 - val_accuracy: 0.9207\n",
      "Epoch 2/5\n",
      "310/310 [==============================] - 479s 2s/step - loss: 0.2033 - accuracy: 0.9257 - val_loss: 0.1916 - val_accuracy: 0.9250\n",
      "Epoch 3/5\n",
      "310/310 [==============================] - 470s 2s/step - loss: 0.1723 - accuracy: 0.9360 - val_loss: 0.1915 - val_accuracy: 0.9239\n",
      "Epoch 4/5\n",
      "310/310 [==============================] - 468s 2s/step - loss: 0.1522 - accuracy: 0.9431 - val_loss: 0.1966 - val_accuracy: 0.9248\n",
      "Epoch 5/5\n",
      "310/310 [==============================] - 467s 2s/step - loss: 0.1368 - accuracy: 0.9496 - val_loss: 0.1967 - val_accuracy: 0.9255\n",
      "CPU times: user 2h 18min 48s, sys: 51min 13s, total: 3h 10min 2s\n",
      "Wall time: 40min 16s\n"
     ]
    }
   ],
   "source": [
    "%%time\n",
    "model.compile(loss='binary_crossentropy', optimizer='adam', metrics=['accuracy'])\n",
    "model.summary()\n",
    "\n",
    "history = model.fit(X_train_tokenized, y_train, epochs=5, batch_size=100, validation_data=(X_test_tokenized, y_test))"
   ]
  },
  {
   "cell_type": "code",
   "execution_count": 30,
   "metadata": {},
   "outputs": [
    {
     "data": {
      "image/png": "[encoded data removed]",
      "text/plain": [
       "<Figure size 432x288 with 1 Axes>"
      ]
     },
     "metadata": {
      "needs_background": "light"
     },
     "output_type": "display_data"
    },
    {
     "data": {
      "image/png": "[encoded data removed]",
      "text/plain": [
       "<Figure size 432x288 with 1 Axes>"
      ]
     },
     "metadata": {
      "needs_background": "light"
     },
     "output_type": "display_data"
    }
   ],
   "source": [
    "plt.plot(history.history['accuracy'])\n",
    "plt.plot(history.history['val_accuracy'])\n",
    "plt.title('Model accuracy')\n",
    "plt.ylabel('Accuracy')\n",
    "plt.xlabel('Epoch')\n",
    "plt.legend(['Train', 'Test'], loc='upper left')\n",
    "plt.show()\n",
    "\n",
    "plt.plot(history.history['loss'])\n",
    "plt.plot(history.history['val_loss'])\n",
    "plt.title('Model loss')\n",
    "plt.ylabel('Loss')\n",
    "plt.xlabel('Epoch')\n",
    "plt.legend(['Train', 'Test'], loc='upper right')\n",
    "plt.show()"
   ]
  },
  {
   "cell_type": "markdown",
   "metadata": {},
   "source": [
    "Accuracy starts to dip after it peaks at a certain epoch."
   ]
  },
  {
   "cell_type": "code",
   "execution_count": 34,
   "metadata": {},
   "outputs": [
    {
     "name": "stdout",
     "output_type": "stream",
     "text": [
      "Evaluate\n",
      "139/139 [==============================] - 23s 166ms/step - loss: 0.1967 - accuracy: 0.9255\n",
      "[0.1967155784368515, 0.925474226474762]\n"
     ]
    }
   ],
   "source": [
    "print('Evaluate')\n",
    "result = model.evaluate(X_test_tokenized, y_test)\n",
    "print(result)"
   ]
  },
  {
   "cell_type": "markdown",
   "metadata": {},
   "source": [
    "### Hybrid CNN-RNN\n",
    "* convolution 1D layer\n",
    "* 2 dense layers\n",
    "* 3 dropout layers with 0.5 rates\n",
    "* keras tokenizer"
   ]
  },
  {
   "cell_type": "code",
   "execution_count": 35,
   "metadata": {},
   "outputs": [],
   "source": [
    "model = tf.keras.Sequential([\n",
    "    tf.keras.layers.Embedding(input_dim = max_features, output_dim = 120),\n",
    "    tf.keras.layers.Dropout(0.5),\n",
    "    tf.keras.layers.Conv1D(64, 5, activation='relu', kernel_regularizer=regularizers.l2(0.0001)),\n",
    "    tf.keras.layers.MaxPooling1D(pool_size=4),\n",
    "    tf.keras.layers.LSTM(20, return_sequences=True),\n",
    "    tf.keras.layers.LSTM(20),\n",
    "    tf.keras.layers.Dropout(0.5),  \n",
    "    tf.keras.layers.Dense(512, activation='relu', kernel_regularizer=regularizers.l2(0.0001)),\n",
    "    tf.keras.layers.Dropout(0.5),  \n",
    "    tf.keras.layers.Dense(256, activation='relu', kernel_regularizer=regularizers.l2(0.0001)),\n",
    "    tf.keras.layers.Dense(1, activation='sigmoid')\n",
    "])"
   ]
  },
  {
   "cell_type": "code",
   "execution_count": 36,
   "metadata": {},
   "outputs": [
    {
     "name": "stdout",
     "output_type": "stream",
     "text": [
      "Model: \"sequential_1\"\n",
      "_________________________________________________________________\n",
      " Layer (type)                Output Shape              Param #   \n",
      "=================================================================\n",
      " embedding_1 (Embedding)     (None, None, 120)         120000    \n",
      "                                                                 \n",
      " dropout_3 (Dropout)         (None, None, 120)         0         \n",
      "                                                                 \n",
      " conv1d_1 (Conv1D)           (None, None, 64)          38464     \n",
      "                                                                 \n",
      " max_pooling1d_1 (MaxPooling  (None, None, 64)         0         \n",
      " 1D)                                                             \n",
      "                                                                 \n",
      " lstm_2 (LSTM)               (None, None, 20)          6800      \n",
      "                                                                 \n",
      " lstm_3 (LSTM)               (None, 20)                3280      \n",
      "                                                                 \n",
      " dropout_4 (Dropout)         (None, 20)                0         \n",
      "                                                                 \n",
      " dense_3 (Dense)             (None, 512)               10752     \n",
      "                                                                 \n",
      " dropout_5 (Dropout)         (None, 512)               0         \n",
      "                                                                 \n",
      " dense_4 (Dense)             (None, 256)               131328    \n",
      "                                                                 \n",
      " dense_5 (Dense)             (None, 1)                 257       \n",
      "                                                                 \n",
      "=================================================================\n",
      "Total params: 310,881\n",
      "Trainable params: 310,881\n",
      "Non-trainable params: 0\n",
      "_________________________________________________________________\n",
      "Epoch 1/5\n",
      "310/310 [==============================] - 138s 433ms/step - loss: 0.3709 - accuracy: 0.8183 - val_loss: 0.2081 - val_accuracy: 0.9207\n",
      "Epoch 2/5\n",
      "310/310 [==============================] - 143s 458ms/step - loss: 0.2027 - accuracy: 0.9250 - val_loss: 0.1952 - val_accuracy: 0.9216\n",
      "Epoch 3/5\n",
      "310/310 [==============================] - 131s 421ms/step - loss: 0.1805 - accuracy: 0.9324 - val_loss: 0.1870 - val_accuracy: 0.9273\n",
      "Epoch 4/5\n",
      "310/310 [==============================] - 125s 402ms/step - loss: 0.1623 - accuracy: 0.9414 - val_loss: 0.1878 - val_accuracy: 0.9273\n",
      "Epoch 5/5\n",
      "310/310 [==============================] - 121s 390ms/step - loss: 0.1520 - accuracy: 0.9449 - val_loss: 0.1887 - val_accuracy: 0.9266\n",
      "CPU times: user 39min 16s, sys: 8min 29s, total: 47min 45s\n",
      "Wall time: 10min 57s\n"
     ]
    }
   ],
   "source": [
    "%%time\n",
    "model.compile(loss='binary_crossentropy', optimizer='adam', metrics=['accuracy'])\n",
    "model.summary()\n",
    "\n",
    "history = model.fit(X_train_tokenized, y_train, epochs=5, batch_size=100, validation_data=(X_test_tokenized, y_test))"
   ]
  },
  {
   "cell_type": "code",
   "execution_count": 37,
   "metadata": {},
   "outputs": [
    {
     "data": {
      "image/png": "[encoded data removed]",
      "text/plain": [
       "<Figure size 432x288 with 1 Axes>"
      ]
     },
     "metadata": {
      "needs_background": "light"
     },
     "output_type": "display_data"
    },
    {
     "data": {
      "image/png": "[encoded data removed]",
      "text/plain": [
       "<Figure size 432x288 with 1 Axes>"
      ]
     },
     "metadata": {
      "needs_background": "light"
     },
     "output_type": "display_data"
    }
   ],
   "source": [
    "plt.plot(history.history['accuracy'])\n",
    "plt.plot(history.history['val_accuracy'])\n",
    "plt.title('Model accuracy')\n",
    "plt.ylabel('Accuracy')\n",
    "plt.xlabel('Epoch')\n",
    "plt.legend(['Train', 'Test'], loc='upper left')\n",
    "plt.show()\n",
    "\n",
    "plt.plot(history.history['loss'])\n",
    "plt.plot(history.history['val_loss'])\n",
    "plt.title('Model loss')\n",
    "plt.ylabel('Loss')\n",
    "plt.xlabel('Epoch')\n",
    "plt.legend(['Train', 'Test'], loc='upper right')\n",
    "plt.show()"
   ]
  },
  {
   "cell_type": "markdown",
   "metadata": {},
   "source": [
    "Amongst the deep learning models explored, hybrid CNN-RNN yields the best results at a 92.66% accuracy rate.\n",
    "\n",
    "However, amongst all of the previous models explored, Logistics Regression still yields the highest accuracy rate of 94.8% with the BoW embeddings. \n",
    "\n",
    "We will use the LR model for our classifier in the flask server."
   ]
  }
 ],
 "metadata": {
  "kernelspec": {
   "display_name": "Python 3.9.6",
   "language": "python",
   "name": "python3"
  },
  "language_info": {
   "codemirror_mode": {
    "name": "ipython",
    "version": 3
   },
   "file_extension": ".py",
   "mimetype": "text/x-python",
   "name": "python",
   "nbconvert_exporter": "python",
   "pygments_lexer": "ipython3",
   "version": "3.9.6"
  },
  "orig_nbformat": 4,
  "vscode": {
   "interpreter": {
    "hash": "1f5113401e6dfb137602a4ea4eb461814924145a6696059db116e313fe4a5c1a"
   }
  }
 },
 "nbformat": 4,
 "nbformat_minor": 2
}
